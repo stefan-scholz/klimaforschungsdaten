{
 "cells": [
  {
   "cell_type": "code",
   "execution_count": 5,
   "id": "cea9caa4",
   "metadata": {},
   "outputs": [
    {
     "name": "stderr",
     "output_type": "stream",
     "text": [
      "2024-06-28 16:42:10,419 INFO Welcome to the CDS\n",
      "2024-06-28 16:42:10,426 INFO Sending request to https://cds.climate.copernicus.eu/api/v2/resources/sis-heat-and-cold-spells\n",
      "2024-06-28 16:42:10,638 INFO Request is completed\n",
      "2024-06-28 16:42:10,639 INFO Downloading https://download-0011-clone.copernicus-climate.eu/cache-compute-0011/cache/data7/dataset-sis-heat-and-cold-spells-29bcb393-8f30-49f1-999c-abb4ee51f647.tar.gz to download.tar.gz (162.5M)\n",
      "2024-06-28 16:42:22,947 INFO Download rate 13.2M/s                                                                     \n"
     ]
    },
    {
     "data": {
      "text/plain": [
       "Result(content_length=170370772,content_type=application/gzip,location=https://download-0011-clone.copernicus-climate.eu/cache-compute-0011/cache/data7/dataset-sis-heat-and-cold-spells-29bcb393-8f30-49f1-999c-abb4ee51f647.tar.gz)"
      ]
     },
     "execution_count": 5,
     "metadata": {},
     "output_type": "execute_result"
    }
   ],
   "source": [
    "import cdsapi\n",
    "c = cdsapi.Client()\n",
    "c.retrieve(\n",
    "  'sis-heat-and-cold-spells',\n",
    "  {\n",
    "   'format': 'tgz',\n",
    "   'variable': 'heat_wave_days',\n",
    "   'definition': 'climatological_related',\n",
    "   'experiment': ['rcp4_5', 'rcp8_5'],\n",
    "   'ensemble_statistic': ['ensemble_members_average', 'ensemble_members_standard_deviation'],\n",
    "  },\n",
    "  'download.tar.gz')"
   ]
  },
  {
   "cell_type": "code",
   "execution_count": null,
   "id": "403601a3",
   "metadata": {},
   "outputs": [
    {
     "name": "stdout",
     "output_type": "stream",
     "text": [
      "^C\n",
      "Note: you may need to restart the kernel to use updated packages.\n"
     ]
    }
   ],
   "source": [
    "pip install gdal"
   ]
  },
  {
   "cell_type": "code",
   "execution_count": 1,
   "id": "7047f9d3",
   "metadata": {},
   "outputs": [
    {
     "ename": "FileNotFoundError",
     "evalue": "Cannot open NetCDF file: /HWD_EU_climate_rcp45_mean_v1.0.nc",
     "output_type": "error",
     "traceback": [
      "\u001b[1;31m---------------------------------------------------------------------------\u001b[0m",
      "\u001b[1;31mFileNotFoundError\u001b[0m                         Traceback (most recent call last)",
      "\u001b[1;32m~\\AppData\\Local\\Temp\\ipykernel_25964\\2296849412.py\u001b[0m in \u001b[0;36m<module>\u001b[1;34m\u001b[0m\n\u001b[0;32m    133\u001b[0m     \u001b[0mprint\u001b[0m\u001b[1;33m(\u001b[0m\u001b[1;34m\"Saving figure to rcp_compare.png\"\u001b[0m\u001b[1;33m)\u001b[0m\u001b[1;33m\u001b[0m\u001b[1;33m\u001b[0m\u001b[0m\n\u001b[0;32m    134\u001b[0m     \u001b[0mplt\u001b[0m\u001b[1;33m.\u001b[0m\u001b[0mshow\u001b[0m\u001b[1;33m(\u001b[0m\u001b[1;33m)\u001b[0m\u001b[1;33m\u001b[0m\u001b[1;33m\u001b[0m\u001b[0m\n\u001b[1;32m--> 135\u001b[1;33m \u001b[0mmain\u001b[0m\u001b[1;33m(\u001b[0m\u001b[1;33m)\u001b[0m\u001b[1;33m\u001b[0m\u001b[1;33m\u001b[0m\u001b[0m\n\u001b[0m",
      "\u001b[1;32m~\\AppData\\Local\\Temp\\ipykernel_25964\\2296849412.py\u001b[0m in \u001b[0;36mmain\u001b[1;34m()\u001b[0m\n\u001b[0;32m     86\u001b[0m     \u001b[0mlat\u001b[0m \u001b[1;33m=\u001b[0m \u001b[1;36m9.17\u001b[0m\u001b[1;33m\u001b[0m\u001b[1;33m\u001b[0m\u001b[0m\n\u001b[0;32m     87\u001b[0m     \u001b[0mnc_file\u001b[0m \u001b[1;33m=\u001b[0m \u001b[1;34mf\"{path}/HWD_EU_climate_rcp45_mean_v1.0.nc\"\u001b[0m\u001b[1;33m\u001b[0m\u001b[1;33m\u001b[0m\u001b[0m\n\u001b[1;32m---> 88\u001b[1;33m     \u001b[0mdata45\u001b[0m \u001b[1;33m=\u001b[0m \u001b[0mfilter_nc_by_location\u001b[0m\u001b[1;33m(\u001b[0m\u001b[0mnc_file\u001b[0m\u001b[1;33m,\u001b[0m \u001b[0mlon\u001b[0m\u001b[1;33m,\u001b[0m \u001b[0mlat\u001b[0m\u001b[1;33m)\u001b[0m\u001b[1;33m\u001b[0m\u001b[1;33m\u001b[0m\u001b[0m\n\u001b[0m\u001b[0;32m     89\u001b[0m \u001b[1;33m\u001b[0m\u001b[0m\n\u001b[0;32m     90\u001b[0m     \u001b[0mnc_file\u001b[0m \u001b[1;33m=\u001b[0m \u001b[1;34mf\"{path}/HWD_EU_climate_rcp85_mean_v1.0.nc\"\u001b[0m\u001b[1;33m\u001b[0m\u001b[1;33m\u001b[0m\u001b[0m\n",
      "\u001b[1;32m~\\AppData\\Local\\Temp\\ipykernel_25964\\2296849412.py\u001b[0m in \u001b[0;36mfilter_nc_by_location\u001b[1;34m(nc_file, lat, lon)\u001b[0m\n\u001b[0;32m     41\u001b[0m \u001b[1;33m\u001b[0m\u001b[0m\n\u001b[0;32m     42\u001b[0m     \u001b[1;32mif\u001b[0m \u001b[1;32mnot\u001b[0m \u001b[0mdataset\u001b[0m\u001b[1;33m:\u001b[0m\u001b[1;33m\u001b[0m\u001b[1;33m\u001b[0m\u001b[0m\n\u001b[1;32m---> 43\u001b[1;33m         \u001b[1;32mraise\u001b[0m \u001b[0mFileNotFoundError\u001b[0m\u001b[1;33m(\u001b[0m\u001b[1;34mf\"Cannot open NetCDF file: {nc_file}\"\u001b[0m\u001b[1;33m)\u001b[0m\u001b[1;33m\u001b[0m\u001b[1;33m\u001b[0m\u001b[0m\n\u001b[0m\u001b[0;32m     44\u001b[0m \u001b[1;33m\u001b[0m\u001b[0m\n\u001b[0;32m     45\u001b[0m     \u001b[1;31m# Get subdatasets (variables in the NetCDF file)\u001b[0m\u001b[1;33m\u001b[0m\u001b[1;33m\u001b[0m\u001b[0m\n",
      "\u001b[1;31mFileNotFoundError\u001b[0m: Cannot open NetCDF file: /HWD_EU_climate_rcp45_mean_v1.0.nc"
     ]
    }
   ],
   "source": [
    "from osgeo import gdal\n",
    "import numpy as np\n",
    "from PIL import Image\n",
    "import numexpr as ne\n",
    "import matplotlib.pyplot as plt\n",
    "\n",
    "# Origo -24,95 / 72,55 => Step 0.1°\n",
    "\n",
    "# vvvvvvvvvvvvvvv\n",
    "#\n",
    "# Enter path to files here:\n",
    "path = ''\n",
    "#\n",
    "# ^^^^^^^^^^^^^^^\n",
    "#\n",
    "#save bands as csv\n",
    "def SaveAsCsv(nc_file, lat, lon):\n",
    "    # Open the NetCDF file using GDAL\n",
    "    dataset = gdal.Open(nc_file)\n",
    "\n",
    "    if not dataset:\n",
    "        raise FileNotFoundError(f\"Cannot open NetCDF file: {nc_file}\")\n",
    "\n",
    "    # Get subdatasets (variables in the NetCDF file)\n",
    "    subdatasets = dataset.GetSubDatasets()\n",
    "    print(f\"Found {len(subdatasets)} subdatasets (variables):\")\n",
    "    for sd in subdatasets:\n",
    "        print(f\" - {sd[0]}\")\n",
    "\n",
    "    # Assume we want to work with the first subdataset (variable)\n",
    "    subdataset_name = subdatasets[0][0]\n",
    "    subdataset = gdal.Open(subdataset_name)\n",
    "\n",
    "    cols = subdataset.RasterXSize\n",
    "    rows = subdataset.RasterYSize\n",
    "\n",
    "    print (f\"{rows}/{cols}\")\n",
    "    for i in range(100):\n",
    "        band = dataset.GetRasterBand(i+1)\n",
    "        data = band.ReadAsArray(0, 0, cols, rows)\n",
    "        np.savetxt(f'{path}/array.csv', data, delimiter=',', fmt='%s')\n",
    "\n",
    "# Function to read and filter NetCDF data\n",
    "def filter_nc_by_location(nc_file, lat, lon):\n",
    "    # Open the NetCDF file using GDAL\n",
    "    dataset = gdal.Open(nc_file)\n",
    "\n",
    "    if not dataset:\n",
    "        raise FileNotFoundError(f\"Cannot open NetCDF file: {nc_file}\")\n",
    "\n",
    "    # Get subdatasets (variables in the NetCDF file)\n",
    "    subdatasets = dataset.GetSubDatasets()\n",
    "    print(f\"Found {len(subdatasets)} subdatasets (variables):\")\n",
    "    for sd in subdatasets:\n",
    "        print(f\" - {sd[0]}\")\n",
    "\n",
    "    # Assume we want to work with the first subdataset (variable)\n",
    "    subdataset_name = subdatasets[0][0]\n",
    "    subdataset = gdal.Open(subdataset_name)\n",
    "\n",
    "    cols = subdataset.RasterXSize\n",
    "    rows = subdataset.RasterYSize\n",
    "\n",
    "    y = int(ne.evaluate(f\"({lon}+24.95)/.1\"))\n",
    "    x = int(ne.evaluate(f\"-({lat}-72.55)/.1\"))\n",
    "    a = []\n",
    "    print (f\"{x}/{y}\")\n",
    "    for i in range(100):\n",
    "        band = dataset.GetRasterBand(i+1)\n",
    "        data = band.ReadAsArray(0, 0, cols, rows)\n",
    "        a.append(data[x][y])\n",
    "\n",
    "    # Read latitude and longitude arrays\n",
    "    #lat_var = subdataset.GetRasterBand(1)\n",
    "    #lon_var = subdataset.GetRasterBand(2)\n",
    "\n",
    "    #lat_data = lat_var.ReadAsArray()\n",
    "    #lon_data = lon_var.ReadAsArray()\n",
    "\n",
    "    # Filter based on the provided lat/lon range\n",
    "    #mask = (lat_data >= lat_range[0]) & (lat_data <= lat_range[1]) & \\\n",
    "    #       (lon_data >= lon_range[0]) & (lon_data <= lon_range[1])\n",
    "\n",
    "    # Apply mask to data (example for 2D dataset)\n",
    "    #filtered_data = lat_var.ReadAsArray()[mask]\n",
    "\n",
    "    return a\n",
    "\n",
    "# Example usage\n",
    "def main():\n",
    "    lon = 47.66\n",
    "    lat = 9.17\n",
    "    nc_file = f\"{path}/HWD_EU_climate_rcp45_mean_v1.0.nc\"\n",
    "    data45 = filter_nc_by_location(nc_file, lon, lat)\n",
    "\n",
    "    nc_file = f\"{path}/HWD_EU_climate_rcp85_mean_v1.0.nc\"\n",
    "    data85 = filter_nc_by_location(nc_file, lon, lat)\n",
    "    \n",
    "    nc_file = f\"{path}/HWD_EU_climate_rcp45_stdev_v1.0.nc\"\n",
    "    st45 = filter_nc_by_location(nc_file, lon, lat)\n",
    "    \n",
    "    nc_file = f\"{path}/HWD_EU_climate_rcp85_stdev_v1.0.nc\"\n",
    "    st85 = filter_nc_by_location(nc_file, lon, lat)\n",
    "\n",
    "    #print(f\"Filtered data shape: {filtered_data.shape}\")\n",
    "    \n",
    "    x_values = np.arange(1986,1986+len(data45))\n",
    "    #plt.figure(figsize=(10, 6))  # Set the figure size\n",
    "    #plt.plot(x_values, data45, marker='o', linestyle='-', color='b', label='Data Line')\n",
    "    #plt.plot(x_values, data85, marker='o', linestyle='-', color='r', label='Data Line')\n",
    "    #plt.errorbar(x_values, data45,st45, marker='', linestyle='-', color='b', label='Data Line', capsize=1.5)\n",
    "    #plt.errorbar(x_values, data85,st85, marker='', linestyle='-', color='r', label='Data Line', capsize=1.5)\n",
    "    \n",
    "#####################\n",
    "    modelname = \"RCP 4.5 / 8.5\"\n",
    "    date_vals = np.arange(1986,1986+len(data45))\n",
    "\n",
    "    plt.plot(date_vals,data45,color='b')\n",
    "    plt.errorbar(date_vals[::2],data45[::2],st45[::2],color='b',capsize=3) #-(rcp_choice-4.5)/45\n",
    "    plt.errorbar([],[],[],color='b',label='RCP 4.5',capsize=1.5)\n",
    "    \n",
    "    plt.plot(date_vals,data85,color='r')\n",
    "    plt.errorbar(date_vals[::2],data85[::2],st85[::2],color='r',capsize=3) #-(rcp_choice-4.5)/45\n",
    "    plt.errorbar([],[],[],color='r',label='RCP 8.5',capsize=1.5)\n",
    "\n",
    "\n",
    "    plt.xlabel('Jahr',fontsize=12)\n",
    "    plt.ylabel('Anzahl Hitzetage pro Jahr',fontsize=12)\n",
    "    plt.xticks(fontsize=10)\n",
    "    plt.yticks(fontsize=10)\n",
    "    plt.title('Hitzewellen-Prognose ' + modelname,fontweight='bold')\n",
    "    \n",
    "    \n",
    "    plt.grid(axis='y')\n",
    "    plt.legend(fontsize=12,loc='upper left')\n",
    "    plt.xlim(min(date_vals),max(date_vals))\n",
    "    plt.ylim(0,None)\n",
    "    plt.savefig(f\"{path}/rcp_compare.png\")\n",
    "    print(\"Saving figure to rcp_compare.png\")\n",
    "    plt.show()\n",
    "main()"
   ]
  },
  {
   "cell_type": "code",
   "execution_count": null,
   "id": "53d0b97e",
   "metadata": {},
   "outputs": [],
   "source": []
  },
  {
   "cell_type": "code",
   "execution_count": null,
   "id": "e169673a",
   "metadata": {},
   "outputs": [],
   "source": []
  }
 ],
 "metadata": {
  "kernelspec": {
   "display_name": "Python 3 (ipykernel)",
   "language": "python",
   "name": "python3"
  },
  "language_info": {
   "codemirror_mode": {
    "name": "ipython",
    "version": 3
   },
   "file_extension": ".py",
   "mimetype": "text/x-python",
   "name": "python",
   "nbconvert_exporter": "python",
   "pygments_lexer": "ipython3",
   "version": "3.9.19"
  }
 },
 "nbformat": 4,
 "nbformat_minor": 5
}
