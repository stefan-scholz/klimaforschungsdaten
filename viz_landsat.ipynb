{
 "cells": [
  {
   "cell_type": "markdown",
   "source": [
    "# Vizualize Landsat"
   ],
   "metadata": {
    "collapsed": false
   }
  },
  {
   "cell_type": "code",
   "execution_count": null,
   "outputs": [],
   "source": [
    "from osgeo import gdal\n",
    "from pathlib import Path\n",
    "import rasterio\n",
    "from rasterio.features import shapes\n",
    "import matplotlib.pyplot as plt\n",
    "import pandas as pd\n",
    "import geopandas as gpd\n",
    "from  matplotlib.colors import LinearSegmentedColormap\n",
    "import contextily as cx\n",
    "from shapely.geometry import Point, Polygon"
   ],
   "metadata": {
    "collapsed": false
   }
  },
  {
   "cell_type": "code",
   "execution_count": null,
   "outputs": [],
   "source": [
    "dataset = gdal.Open(\"data/LC08_L2SP_194027_20230813_20230819_02_T1_ST_B10.TIF\", gdal.GA_ReadOnly)\n",
    "band = dataset.GetRasterBand(1) # note: band no. starting from 1 not 0\n",
    "arr = band.ReadAsArray()\n",
    "plt.imshow(arr)"
   ],
   "metadata": {
    "collapsed": false
   }
  },
  {
   "cell_type": "code",
   "execution_count": null,
   "outputs": [],
   "source": [
    "# get projection\n",
    "print(dataset.GetProjection())"
   ],
   "metadata": {
    "collapsed": false
   }
  },
  {
   "cell_type": "code",
   "execution_count": null,
   "outputs": [],
   "source": [
    "# get corners\n",
    "ulx, xres, xskew, uly, yskew, yres  = dataset.GetGeoTransform()\n",
    "lrx = ulx + (dataset.RasterXSize * xres)\n",
    "lry = uly + (dataset.RasterYSize * yres)\n",
    "print(f\"upper left corner {ulx} {uly}\")\n",
    "print(f\"lower right corner {lrx} {lry}\")"
   ],
   "metadata": {
    "collapsed": false
   }
  },
  {
   "cell_type": "code",
   "execution_count": null,
   "outputs": [],
   "source": [
    "# get coordinates of Konstanz\n",
    "cities = gpd.read_file(\"data/OD_AX_Kommunales_Gebiet/AX_KommunalesGebiet.shp\")\n",
    "city = cities.loc[cities.Name == \"Konstanz\", \"geometry\"].to_crs(\"EPSG:32632\").bounds\n",
    "print(cities.loc[cities.Name == \"Konstanz\", \"geometry\"].to_crs(\"EPSG:32632\").bounds)"
   ],
   "metadata": {
    "collapsed": false
   }
  },
  {
   "cell_type": "code",
   "execution_count": null,
   "outputs": [],
   "source": [
    "cities.loc[cities.Name == \"Konstanz\", \"geometry\"].to_crs(\"EPSG:32632\")"
   ],
   "metadata": {
    "collapsed": false
   }
  },
  {
   "cell_type": "code",
   "execution_count": null,
   "outputs": [],
   "source": [
    "# crop to Konstanz\n",
    "upper_left_x = 506402.693\n",
    "upper_left_y = 5289935\n",
    "lower_right_x = 516367.261\n",
    "lower_right_y = 5277858\n",
    "window = (upper_left_x,upper_left_y,lower_right_x,lower_right_y)\n",
    "\n",
    "for file in Path('data').glob('*B10.TIF'):\n",
    "    # translate file\n",
    "    gdal.Translate(str(file.parents[0] / f\"{file.stem}_sm.TIF\"), file, projWin = window)\n",
    "\n",
    "    # create geojson\n",
    "    tmp = rasterio.open(str(file.parents[0] / f\"{file.stem}_sm.TIF\")).meta\n",
    "    c = str(tmp['crs'])\n",
    "    c_s = c.split(':')\n",
    "\n",
    "    mask = None\n",
    "    with rasterio.open(str(file.parents[0] / f\"{file.stem}_sm.TIF\")) as src:\n",
    "        image = src.read(1) # first band\n",
    "        results = (\n",
    "            {'properties': {'temp': v}, 'geometry': s}\n",
    "            for i, (s, v)\n",
    "            in enumerate(shapes(image, mask=mask, transform=tmp['transform']))\n",
    "        )\n",
    "\n",
    "    tmp2 = gpd.GeoDataFrame.from_features(list(results), crs=c)\n",
    "    # filter\n",
    "    tmp2 = tmp2.loc[tmp2.intersects(cities.loc[cities.Name == \"Konstanz\", \"geometry\"].to_crs(\"EPSG:32632\").loc[126])]\n",
    "    tmp2.to_file(str(file.parents[0] / f\"{file.stem}_sm.geojson\"), driver='GeoJSON')"
   ],
   "metadata": {
    "collapsed": false
   }
  },
  {
   "cell_type": "code",
   "execution_count": null,
   "outputs": [],
   "source": [
    "# plot figures\n",
    "\n",
    "for file in Path('data').glob('*B10_sm.geojson'):\n",
    "    # get year\n",
    "    year = str(file)[22:26]\n",
    "\n",
    "    # read temps\n",
    "    temps = gpd.read_file(file)\n",
    "\n",
    "    # plot temps\n",
    "    cmap=LinearSegmentedColormap.from_list('rg',[\"g\", \"r\"], N=256)\n",
    "\n",
    "    fig, ax = plt.subplots()\n",
    "    ax = temps.to_crs(epsg=3857).plot(column='temp', alpha=0.7, cmap=cmap,scheme='quantiles', ax=ax) # figsize=(10,3)\n",
    "    cx.add_basemap(ax, attribution = False)\n",
    "\n",
    "    plt.axis('off')\n",
    "    plt.savefig(f'figures/landsat_konstanz_{year}.pdf', bbox_inches='tight')\n",
    "    #plt.show()"
   ],
   "metadata": {
    "collapsed": false
   }
  },
  {
   "cell_type": "code",
   "execution_count": null,
   "outputs": [],
   "source": [
    "# crop to Marktstätte\n",
    "upper_left_x = 513274.66299081355\n",
    "upper_left_y = 5278720.103245781\n",
    "lower_right_x = 513356.19580278266\n",
    "lower_right_y = 5278644.798902255\n",
    "window = (upper_left_x,upper_left_y,lower_right_x,lower_right_y)\n",
    "\n",
    "# EPSG:3857 -> EPSG:32632\n",
    "# top left 513274.66299081355 5278720.103245781\n",
    "# bottom right 513356.19580278266 5278644.798902255\n",
    "\n",
    "for file in Path('data').glob('*B10.TIF'):\n",
    "    # translate file\n",
    "    gdal.Translate(str(file.parents[0] / f\"{file.stem}_xs.TIF\"), file, projWin = window)\n",
    "\n",
    "    # create geojson\n",
    "    tmp = rasterio.open(str(file.parents[0] / f\"{file.stem}_xs.TIF\")).meta\n",
    "    c = str(tmp['crs'])\n",
    "    c_s = c.split(':')\n",
    "\n",
    "    mask = None\n",
    "    with rasterio.open(str(file.parents[0] / f\"{file.stem}_xs.TIF\")) as src:\n",
    "        image = src.read(1) # first band\n",
    "        results = (\n",
    "            {'properties': {'temp': v}, 'geometry': s}\n",
    "            for i, (s, v)\n",
    "            in enumerate(shapes(image, mask=mask, transform=tmp['transform']))\n",
    "        )\n",
    "\n",
    "    tmp2 = gpd.GeoDataFrame.from_features(list(results), crs=c)\n",
    "    # filter\n",
    "    tmp2 = tmp2.loc[tmp2.intersects(cities.loc[cities.Name == \"Konstanz\", \"geometry\"].to_crs(\"EPSG:32632\").loc[126])]\n",
    "    tmp2.to_file(str(file.parents[0] / f\"{file.stem}_xs.geojson\"), driver='GeoJSON')"
   ],
   "metadata": {
    "collapsed": false
   }
  },
  {
   "cell_type": "code",
   "execution_count": null,
   "outputs": [],
   "source": [
    "# create bounding box\n",
    "# top left 513274.66299081355 5278720.103245781\n",
    "# bottom right 513356.19580278266 5278644.798902255\n",
    "\n",
    "upper_left_x = 513274.66299081355\n",
    "upper_left_y = 5278720.103245781\n",
    "lower_right_x = 513356.19580278266\n",
    "lower_right_y = 5278644.798902255\n",
    "\n",
    "np1 = (upper_left_x, upper_left_y)\n",
    "np2 = (upper_left_x, lower_right_y)\n",
    "np3 = (lower_right_x, lower_right_y)\n",
    "np4 = (lower_right_x, upper_left_y)\n",
    "\n",
    "bb_polygon = Polygon([np1, np2, np3, np4])"
   ],
   "metadata": {
    "collapsed": false
   }
  },
  {
   "cell_type": "code",
   "execution_count": null,
   "outputs": [],
   "source": [
    "# plot figures\n",
    "for file in Path('data').glob('*B10_sm.geojson'):\n",
    "    # get year\n",
    "    year = str(file)[22:26]\n",
    "\n",
    "    # read temps\n",
    "    temps = gpd.read_file(file)\n",
    "\n",
    "    # calculate quantiles\n",
    "    temps[\"quantile\"] = pd.qcut(temps[\"temp\"], 10, labels=False)\n",
    "\n",
    "    # plot temps\n",
    "    cmap=LinearSegmentedColormap.from_list('rg',[\"g\", \"r\"], N=256)\n",
    "\n",
    "    fig, ax = plt.subplots()\n",
    "    ax = temps.to_crs(epsg=3857).loc[temps.intersects(bb_polygon)].plot(column='quantile', alpha=0.7, cmap=cmap, vmin=0, vmax=9, edgecolor='white', linewidth=2, ax=ax) # figsize=(10,3)\n",
    "    cx.add_basemap(ax, attribution=False)\n",
    "\n",
    "    plt.axis('off')\n",
    "    plt.savefig(f'figures/landsat_marktstaette_{year}.pdf', bbox_inches='tight')\n",
    "    #plt.show()"
   ],
   "metadata": {
    "collapsed": false
   }
  },
  {
   "cell_type": "code",
   "execution_count": null,
   "outputs": [],
   "source": [],
   "metadata": {
    "collapsed": false
   }
  }
 ],
 "metadata": {
  "kernelspec": {
   "display_name": "Python 3",
   "language": "python",
   "name": "python3"
  },
  "language_info": {
   "codemirror_mode": {
    "name": "ipython",
    "version": 2
   },
   "file_extension": ".py",
   "mimetype": "text/x-python",
   "name": "python",
   "nbconvert_exporter": "python",
   "pygments_lexer": "ipython2",
   "version": "2.7.6"
  }
 },
 "nbformat": 4,
 "nbformat_minor": 0
}
