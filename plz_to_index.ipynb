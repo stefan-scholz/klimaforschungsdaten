{
 "cells": [
  {
   "cell_type": "markdown",
   "metadata": {},
   "source": [
    "# PLZ to Index\n",
    "*Thomas Bissinger, Hack and Harvest KN, 29.06.24*\n",
    "\n",
    "In a first step, this script takes postal codes and turns them into latitude and longitude data. The resulting latitude and longitude is then converted into indices in the matrix representation in the COPERNICUS heat wave dataset. Uses the opencage package to extract latitudes and longitudes, an **api key** is required to run this script. There is a free subscription available. The code is partially in German.\n",
    "\n",
    "**Attention**: The indexing convention in this script is NOT used in the .nc file\n",
    "\n",
    "The data set can be found under *https://cds.climate.copernicus.eu/cdsapp#!/dataset/sis-heat-and-cold-spells?tab=overview*"
   ]
  },
  {
   "cell_type": "code",
   "execution_count": 1,
   "metadata": {},
   "outputs": [
    {
     "name": "stdout",
     "output_type": "stream",
     "text": [
      "Note: you may need to restart the kernel to use updated packages.\n",
      "Note: you may need to restart the kernel to use updated packages.\n"
     ]
    }
   ],
   "source": [
    "%pip install -q opencage\n",
    "%pip install -q requests"
   ]
  },
  {
   "cell_type": "markdown",
   "metadata": {},
   "source": [
    "## Simple Example\n",
    "To get started, let us perform a simple latitude/longitude extraction."
   ]
  },
  {
   "cell_type": "code",
   "execution_count": 2,
   "metadata": {},
   "outputs": [
    {
     "name": "stdout",
     "output_type": "stream",
     "text": [
      "Längen- und Breitengrad für 78462:\n",
      "Breitengrad: 47.6619501\n",
      "Längengrad: 9.1706791\n"
     ]
    }
   ],
   "source": [
    "# A simple implementation to extract geocode\n",
    "from opencage.geocoder import OpenCageGeocode\n",
    "import requests\n",
    "from requests.packages.urllib3.exceptions import InsecureRequestWarning\n",
    "\n",
    "requests.packages.urllib3.disable_warnings(InsecureRequestWarning)\n",
    "# OpenCage API key\n",
    "api_key = 'API KEY REQUIRED'\n",
    "geocoder = OpenCageGeocode(api_key)\n",
    "\n",
    "# postcode / PLZ\n",
    "postcode = '78462'  # 78462: Konstanz\n",
    "\n",
    "# request to geocoding API\n",
    "query = f'{postcode}, Germany'\n",
    "results = geocoder.geocode(query)\n",
    "\n",
    "# Check results\n",
    "if results:\n",
    "    latitude = results[0]['geometry']['lat']\n",
    "    longitude = results[0]['geometry']['lng']\n",
    "    print(f'Längen- und Breitengrad für {postcode}:')\n",
    "    print(f'Breitengrad: {latitude}')\n",
    "    print(f'Längengrad: {longitude}')\n",
    "else:\n",
    "    print('Keine Ergebnisse gefunden')\n"
   ]
  },
  {
   "cell_type": "markdown",
   "metadata": {},
   "source": [
    "## Latitude and Longitude Extraction Script\n",
    "Now, we do what we just did within a script."
   ]
  },
  {
   "cell_type": "code",
   "execution_count": 3,
   "metadata": {},
   "outputs": [],
   "source": [
    "# Function that returns longitude and latitude for a given post code\n",
    "def get_geocode(postcode, country_code):\n",
    "    # Importing requests module within the function\n",
    "    import requests\n",
    "    \n",
    "    # Importing json module within the function\n",
    "    from opencage.geocoder import OpenCageGeocode as ocg\n",
    "    \n",
    "    # OpenCage API key\n",
    "    api_key = 'API KEY REQUIRED'\n",
    "    \n",
    "    # Base URL for the OpenCage Geocoding API\n",
    "    base_url = 'https://api.opencagedata.com/geocode/v1/json'\n",
    "    \n",
    "    # Parameters to be sent to the API\n",
    "    params = {\n",
    "        'q': postcode,\n",
    "        'key': api_key,\n",
    "        'countrycode': country_code\n",
    "    }\n",
    "    \n",
    "    # Make a request to the API\n",
    "    response = requests.get(base_url, params=params)\n",
    "    \n",
    "    # Check the status code of the response\n",
    "    if response.status_code == 200:\n",
    "        # Parse the JSON data from the response\n",
    "        data = response.json()\n",
    "        if data['results']:\n",
    "            # Extract latitude and longitude from the first result\n",
    "            latitude = data['results'][0]['geometry']['lat']\n",
    "            longitude = data['results'][0]['geometry']['lng']\n",
    "            return (latitude, longitude)\n",
    "        else:\n",
    "            print('No results found')\n",
    "            return None\n",
    "    else:\n",
    "        print('Failed to retrieve data:', response.status_code)\n",
    "        return None"
   ]
  },
  {
   "cell_type": "markdown",
   "metadata": {},
   "source": [
    "## Matrix Index Extraction Script\n",
    "We then need a script that extracts the two matrix indices associated with a latitude and longitude"
   ]
  },
  {
   "cell_type": "code",
   "execution_count": 4,
   "metadata": {},
   "outputs": [],
   "source": [
    "# For a given longitude and latitude, returns the matrix indices of the grid point in the bounding box (heatwave data set)\n",
    "def find_matrixindex(latitude, longitude):\n",
    "    import math\n",
    "\n",
    "    if latitude == None or longitude == None:\n",
    "        print('Invalid Input')\n",
    "        return None\n",
    "    elif latitude > 72.6 or latitude < 25:\n",
    "        print('Latitude out of bounds. Bounds are (25,72.6), latitude is ', latitude)\n",
    "        return None\n",
    "    elif longitude > 35 or longitude < -25:\n",
    "        print('Latitude out of bounds. Bounds are (25,75.6), latitude is ', latitude)\n",
    "        return None\n",
    "    else:\n",
    "        ref_latitude = 72.60\n",
    "        ref_longitude = -25.00\n",
    "        step_latitude = -0.10\n",
    "        step_longitude = 0.10\n",
    "        index_x = math.floor((longitude - ref_longitude) / step_longitude)\n",
    "        index_y = math.floor((latitude - ref_latitude) / step_latitude)\n",
    "        return (index_x, index_y)"
   ]
  },
  {
   "cell_type": "markdown",
   "metadata": {},
   "source": [
    "## Final Example\n",
    "Simple example code for using the two scripts just defined to convert a postcode into two matrix indices"
   ]
  },
  {
   "cell_type": "code",
   "execution_count": 5,
   "metadata": {},
   "outputs": [
    {
     "name": "stdout",
     "output_type": "stream",
     "text": [
      "Postcode 78462:\n",
      "Latitude: 47.6619501\n",
      "Longitude: 9.1706791\n",
      "x index: 341\n",
      "y index: 249\n"
     ]
    }
   ],
   "source": [
    "# Example usage of the function\n",
    "postcode = '78462' # '80336' for Munich, '78462' for Konstanz\n",
    "country_code = 'de'\n",
    "coordinates = get_geocode(postcode, country_code)\n",
    "if coordinates:\n",
    "    indices = find_matrixindex(coordinates[0],coordinates[1])\n",
    "    print(f'Postcode {postcode}:')\n",
    "    print(f'Latitude: {coordinates[0]}')\n",
    "    print(f'Longitude: {coordinates[1]}')\n",
    "    print(f'x index: {indices[0]}')\n",
    "    print(f'y index: {indices[1]}')"
   ]
  },
  {
   "cell_type": "code",
   "execution_count": null,
   "metadata": {},
   "outputs": [],
   "source": []
  }
 ],
 "metadata": {
  "kernelspec": {
   "display_name": "Python 3 (ipykernel)",
   "language": "python",
   "name": "python3"
  },
  "language_info": {
   "codemirror_mode": {
    "name": "ipython",
    "version": 3
   },
   "file_extension": ".py",
   "mimetype": "text/x-python",
   "name": "python",
   "nbconvert_exporter": "python",
   "pygments_lexer": "ipython3",
   "version": "3.12.4"
  }
 },
 "nbformat": 4,
 "nbformat_minor": 4
}
